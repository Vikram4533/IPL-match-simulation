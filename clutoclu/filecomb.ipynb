{
 "cells": [
  {
   "cell_type": "code",
   "execution_count": 12,
   "metadata": {},
   "outputs": [
    {
     "name": "stdout",
     "output_type": "stream",
     "text": [
      "complete\n",
      "636\n"
     ]
    }
   ],
   "source": [
    "#single file of 632 filez\n",
    "count=0\n",
    "cf=open(\"C:/Users/VIK/Desktop/bd/clutoclu/all.csv\",\"w\")\n",
    "for i in range(636):\n",
    "    count+=1\n",
    "    file=open(\"C:/Users/VIK/Desktop/bd/Ass4/output/aaa\"+str(i)+\".csv\",\"r\")\n",
    "    content=file.readlines()\n",
    "    for w in range(len(content)):\n",
    "        if(len(content[w].split(\",\"))>1):\n",
    "            cf.write(content[w])\n",
    "print(\"complete\")\n",
    "print(count)"
   ]
  },
  {
   "cell_type": "code",
   "execution_count": null,
   "metadata": {},
   "outputs": [],
   "source": []
  }
 ],
 "metadata": {
  "kernelspec": {
   "display_name": "Python 3",
   "language": "python",
   "name": "python3"
  },
  "language_info": {
   "codemirror_mode": {
    "name": "ipython",
    "version": 3
   },
   "file_extension": ".py",
   "mimetype": "text/x-python",
   "name": "python",
   "nbconvert_exporter": "python",
   "pygments_lexer": "ipython3",
   "version": "3.7.0"
  }
 },
 "nbformat": 4,
 "nbformat_minor": 2
}
