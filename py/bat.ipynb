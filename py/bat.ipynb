{
 "cells": [
  {
   "cell_type": "code",
   "execution_count": null,
   "metadata": {},
   "outputs": [],
   "source": [
    "from bs4 import BeautifulSoup\n",
    "import requests\n",
    "links=[\"http://www.espncricinfo.com/ipl/engine/series/313494.html?view=records\",\"http://www.espncricinfo.com/ipl2009/engine/series/374163.html?view=records\",\"http://www.espncricinfo.com/ipl2010/engine/series/418064.html?view=records\",\"http://www.espncricinfo.com/indian-premier-league-2011/engine/series/466304.html?view=records\",\"http://www.espncricinfo.com/indian-premier-league-2012/engine/series/520932.html?view=records\",\"http://www.espncricinfo.com/indian-premier-league-2013/engine/series/586733.html?view=records\",\"http://www.espncricinfo.com/indian-premier-league-2014/engine/series/695871.html?view=records\",\"http://www.espncricinfo.com/indian-premier-league-2015/engine/series/791129.html?view=records\",\"http://www.espncricinfo.com/indian-premier-league-2016/engine/series/968923.html?view=records\",\"http://www.espncricinfo.com/indian-premier-league-2017/engine/series/1078425.html?view=records\"]\n",
    "batting=[]\n",
    "bowling=[]\n",
    "for i in links:\n",
    "    url=requests.get(i)\n",
    "    soup=BeautifulSoup(url.text)\n",
    "    table=soup.find_all('a',{'class':'RecordLinks'})\n",
    "    w=\"http://www.espncricinfo.com\"\n",
    "    batting.append(w+table[37].get('href'))\n",
    "print(batting)\n",
    "#batsman\n",
    "num=2008\n",
    "for i in range(len(batting)):\n",
    "    u=batting[i]\n",
    "    file=open(\"C:/Users/VIK/Desktop/data/bat/\"+str(num)+\"bat\"+\".csv\",\"w\")\n",
    "    num=num+1\n",
    "    url=requests.get(u)\n",
    "    soup=BeautifulSoup(url.text)\n",
    "    file.write(\"name,mat,inn,NO,Runs,Hs,AVG,bf,sr,hun,fif\\n\")\n",
    "    table=soup.find_all('table',{'class':'engineTable'})[0]#All the tables which belong to class engineTable\n",
    "    pp=table.find_all('tr',{'class':'data2'})\n",
    "    for m in pp:\n",
    "        pp=m.find_all('a')\n",
    "        name=pp[0].text\n",
    "        oth=m.find_all('td')\n",
    "        mat=oth[1].text\n",
    "        inn=oth[2].text\n",
    "        if(inn==\"-\"):\n",
    "            inn=\"0\"\n",
    "        NO=oth[3].text\n",
    "        if(NO==\"-\"):\n",
    "            NO=\"0\"\n",
    "        Runs=oth[4].text\n",
    "        if(Runs==\"-\"):\n",
    "            Runs=\"0\"\n",
    "        Hs=oth[5].text\n",
    "        if(Hs==\"-\"):\n",
    "            Hs=\"0\"\n",
    "        Hs=Hs.split(\"*\")[0]\n",
    "        AVG=oth[6].text\n",
    "        if(AVG==\"-\"):\n",
    "            AVG=\"0\"\n",
    "        bf=oth[7].text\n",
    "        if(bf==\"-\"):\n",
    "            bf=\"0\"\n",
    "        sr=oth[8].text\n",
    "        if(sr==\"-\"):\n",
    "            sr=\"0\"\n",
    "        hun=oth[9].text\n",
    "        if(hun==\"-\"):\n",
    "            hun=\"0\"\n",
    "        fif=oth[10].text\n",
    "        if(fif==\"-\"):\n",
    "            fif=\"0\"\n",
    "        file.write(name+\",\"+mat+\",\"+inn+\",\"+NO+\",\"+Runs+\",\"+Hs+\",\"+AVG+\",\"+bf+\",\"+sr+\",\"+hun+\",\"+fif+\"\\n\")\n",
    "    file.close()\n",
    "print(\"bat complete\")\n",
    "\n",
    "    "
   ]
  },
  {
   "cell_type": "code",
   "execution_count": null,
   "metadata": {},
   "outputs": [],
   "source": []
  },
  {
   "cell_type": "code",
   "execution_count": null,
   "metadata": {},
   "outputs": [],
   "source": []
  }
 ],
 "metadata": {
  "kernelspec": {
   "display_name": "Python 3",
   "language": "python",
   "name": "python3"
  },
  "language_info": {
   "codemirror_mode": {
    "name": "ipython",
    "version": 3
   },
   "file_extension": ".py",
   "mimetype": "text/x-python",
   "name": "python",
   "nbconvert_exporter": "python",
   "pygments_lexer": "ipython3",
   "version": "3.7.0"
  }
 },
 "nbformat": 4,
 "nbformat_minor": 2
}
