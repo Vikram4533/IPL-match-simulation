{
 "cells": [
  {
   "cell_type": "code",
   "execution_count": 46,
   "metadata": {},
   "outputs": [
    {
     "name": "stdout",
     "output_type": "stream",
     "text": [
      "498\n",
      "498\n",
      "[['P Amarnath', 6, 0, 0, 0, 0], ['Abdur Razzak', 1, 1, 1, 0, 2], ['AB Agarkar', 42, 22, 12, 179, 154], ['B Akhil', 15, 11, 5, 76, 55], ['S Anirudha', 20, 13, 5, 136, 113], ['J Arunkumar', 3, 3, 0, 23, 23], ['SA Asnodkar', 20, 20, 0, 423, 339], ['S Badrinath', 95, 67, 20, 1441, 1212], ['L Balaji', 73, 15, 7, 36, 49], ['SB Bangar', 12, 8, 1, 49, 58], ['R Bhatia', 95, 49, 19, 342, 284], ['MV Boucher', 31, 24, 10, 394, 309], ['DJ Bravo', 106, 83, 28, 1262, 999], ['S Chanderpaul', 3, 3, 0, 25, 31], ['PP Chawla', 129, 69, 27, 515, 453], ['B Chipli', 23, 21, 6, 280, 251], ['SD Chitnis', 11, 8, 1, 99, 89], ['A Chopra', 7, 6, 0, 53, 71], ['DB Das', 31, 22, 8, 304, 261], ['H Das', 1, 1, 0, 2, 5], ['AB de Villiers', 129, 118, 27, 3473, 2344], ['P Dharmani', 1, 0, 0, 0, 0], ['S Dhawan', 127, 126, 17, 3561, 2922], ['MS Dhoni', 159, 143, 49, 3561, 2604], ['TM Dilshan', 52, 50, 7, 1153, 1007], ['AB Dinda', 78, 17, 7, 26, 48], ['R Dravid', 89, 82, 5, 2174, 1882], ['CRD Fernando', 10, 2, 2, 4, 3], ['SP Fleming', 10, 10, 1, 196, 165], ['Gagandeep Singh', 4, 0, 0, 0, 0], ['G Gambhir', 148, 147, 16, 4132, 3316], ['SC Ganguly', 59, 56, 3, 1349, 1263], ['B Geeves', 2, 0, 0, 0, 0], ['HH Gibbs', 36, 36, 4, 886, 807], ['AC Gilchrist', 80, 80, 4, 2069, 1495], ['K Goel', 22, 17, 2, 218, 231], ['MS Gony', 44, 17, 7, 99, 71], ['SP Goswami', 23, 16, 1, 241, 251], ['Harbhajan Singh', 136, 84, 35, 799, 561], ['ML Hayden', 32, 32, 2, 1107, 805], ['BJ Hodge', 66, 63, 21, 1400, 1118], ['JR Hopes', 21, 19, 3, 417, 306], ['DJ Hussey', 64, 61, 12, 1322, 1075], ['MEK Hussey', 59, 58, 7, 1977, 1612], ['Iqbal Abdulla', 49, 13, 11, 88, 84], ['RA Jadeja', 138, 109, 37, 1732, 1409], ['W Jaffer', 8, 8, 0, 130, 121], ['ST Jayasuriya', 30, 30, 2, 768, 532], ['DPMD Jayawardene', 80, 78, 15, 1802, 1462], ['Joginder Sharma', 16, 6, 2, 36, 30], ['SB Joshi', 4, 2, 0, 6, 14], ['M Kaif', 29, 22, 4, 259, 250], ['JH Kallis', 98, 96, 11, 2427, 2222], ['D Kalyankrishna', 3, 1, 0, 3, 8], ['Kamran Akmal', 6, 6, 1, 128, 78], ['CK Kapugedera', 5, 3, 0, 16, 23], ['KD Karthik', 152, 134, 17, 2903, 2305], ['M Kartik', 56, 16, 9, 113, 108], ['SM Katich', 11, 11, 1, 241, 186], ['U Kaul', 5, 1, 1, 0, 1], ['Z Khan', 100, 32, 18, 117, 141], ['MA Khote', 4, 3, 1, 24, 22], ['T Kohli', 4, 4, 1, 11, 19], ['V Kohli', 149, 141, 23, 4418, 3403], ['DS Kulkarni', 72, 18, 10, 90, 96], ['P Kumar', 119, 59, 21, 340, 314], ['A Kumble', 42, 17, 14, 35, 47], ['VVS Laxman', 20, 20, 2, 282, 267], ['B Lee', 38, 19, 9, 124, 97], ['DS Lehmann', 2, 2, 0, 18, 18], ['BB McCullum', 103, 103, 5, 2753, 2098], ['GD McGrath', 14, 3, 2, 4, 5], ['MF Maharoof', 20, 14, 4, 177, 123], ['VY Mahesh', 18, 5, 3, 15, 27], ['M Manhas', 55, 38, 15, 514, 470], ['SE Marsh', 71, 69, 7, 2477, 1866], ['AD Mascarenhas', 13, 11, 2, 79, 78], ['BAW Mendis', 10, 3, 1, 3, 6], ['Misbah-ul-Haq', 8, 8, 1, 117, 81], ['A Mishra', 126, 51, 22, 340, 363], ['Mohammad Asif', 8, 2, 0, 3, 6], ['Mohammad Hafeez', 8, 8, 1, 64, 83], ['JA Morkel', 91, 68, 28, 974, 686], ['WA Mota', 12, 8, 2, 56, 75], ['A Mukund', 3, 2, 0, 19, 22], ['M Muralitharan', 66, 9, 3, 20, 30], ['AM Nayar', 60, 50, 12, 672, 577], ['A Nehra', 88, 22, 15, 41, 62], ['A Nel', 1, 1, 0, 0, 0], ['AA Noffke', 1, 1, 0, 9, 10], ['M Ntini', 9, 2, 1, 11, 18], ['PP Ojha', 92, 23, 11, 16, 45], ['JDP Oram', 18, 12, 4, 106, 108], ['MK Pandey', 103, 96, 18, 2215, 1844], ['Pankaj Singh', 17, 5, 3, 7, 12], ['MM Patel', 63, 15, 9, 39, 41], ['NK Patel', 9, 6, 2, 121, 119], ['PA Patel', 119, 117, 10, 2322, 1981], ['IK Pathan', 103, 82, 29, 1139, 946], ['YK Pathan', 149, 133, 35, 2904, 1996], ['DT Patil', 2, 2, 0, 13, 13], ['RV Pawar', 1, 0, 0, 0, 0], ['SM Pollock', 13, 8, 0, 147, 111], ['LA Pomersbach', 17, 16, 5, 302, 246], ['RT Ponting', 10, 9, 0, 91, 128], ['RR Powar', 27, 10, 7, 67, 64], ['AM Rahane', 111, 105, 14, 3057, 2535], ['SK Raina', 161, 157, 24, 4540, 3265], ['RR Raje', 10, 5, 4, 20, 18], ['DB Ravi Teja', 32, 25, 6, 375, 317], ['M Rawat', 18, 12, 7, 55, 69], ['L Ronchi', 5, 5, 0, 34, 34], ['WP Saha', 104, 80, 19, 1557, 1191], ['Salman Butt', 7, 7, 0, 193, 161], ['D Salunkhe', 6, 3, 1, 33, 24], ['KC Sangakkara', 71, 68, 3, 1687, 1392], ['PJ Sangwan', 38, 13, 7, 24, 35], ['PM Sarvesh Kumar', 2, 1, 1, 1, 2], ['RR Sarwan', 4, 4, 0, 73, 75], ['V Sehwag', 104, 104, 5, 2728, 1755], ['PR Shah', 16, 10, 2, 92, 91], ['Shahid Afridi', 10, 9, 1, 81, 46], ['I Sharma', 76, 22, 16, 45, 58], ['RG Sharma', 159, 154, 25, 4207, 3214], ['Shoaib Akhtar', 3, 1, 0, 2, 7], ['Shoaib Malik', 7, 5, 1, 52, 47], ['LR Shukla', 47, 34, 7, 405, 350], ['LPC Silva', 3, 3, 1, 40, 26], ['RP Singh', 82, 30, 15, 52, 76], ['VRV Singh', 19, 2, 0, 4, 3], ['DR Smith', 91, 89, 5, 2385, 1764], ['GC Smith', 29, 29, 3, 739, 668], ['Sohail Tanvir', 11, 5, 2, 36, 29], ['S Sohal', 22, 20, 0, 368, 292], ['S Sreesanth', 44, 14, 10, 34, 55], ['TM Srivastava', 7, 3, 2, 8, 11], ['DW Steyn', 90, 35, 13, 166, 158], ['SB Styris', 12, 10, 3, 131, 133], ['A Symonds', 39, 36, 9, 974, 750], ['T Taibu', 3, 3, 0, 31, 26], ['YV Takawale', 16, 10, 2, 192, 178], ['LRPL Taylor', 55, 54, 14, 1017, 822], ['SR Tendulkar', 78, 78, 11, 2334, 1948], ['DJ Thornely', 6, 4, 2, 39, 53], ['MK Tiwary', 93, 81, 25, 1648, 1405], ['SS Tiwary', 81, 65, 20, 1276, 1067], ['SK Trivedi', 76, 15, 8, 42, 59], ['Umar Gul', 6, 4, 1, 39, 19], ['RV Uthappa', 149, 143, 15, 3778, 2870], ['WPUJC Vaas', 13, 11, 3, 81, 73], ['Y Venugopal Rao', 65, 54, 10, 985, 836], ['DL Vettori', 34, 17, 9, 121, 113], ['S Vidyut', 9, 8, 0, 145, 109], ['DP Vijaykumar', 9, 2, 2, 1, 1], ['R Vinay Kumar', 103, 45, 17, 304, 271], ['SK Warne', 55, 29, 9, 198, 214], ['SR Watson', 102, 98, 14, 2622, 1891], ['CL White', 47, 45, 9, 954, 755], ['AS Yadav', 8, 6, 1, 49, 39], ['VS Yeligati', 2, 1, 0, 2, 2], ['Younis Khan', 1, 1, 0, 3, 7], ['Yuvraj Singh', 120, 116, 15, 2587, 1972], ['DNT Zoysa', 3, 2, 1, 11, 9], ['YA Abdulla', 11, 1, 1, 0, 1], ['Anureet Singh', 20, 7, 3, 33, 43], ['KP Appanna', 14, 3, 2, 2, 4], ['R Ashwin', 111, 37, 15, 231, 240], ['GJ Bailey', 40, 37, 10, 663, 544], ['AA Bilakhia', 7, 7, 2, 69, 85], ['R Bishnoi', 3, 3, 0, 19, 17], ['RS Bopara', 24, 22, 4, 531, 453], ['RR Bose', 1, 0, 0, 0, 0], ['J Botha', 34, 28, 8, 409, 359], ['LA Carseldine', 5, 5, 1, 81, 68], ['JP Duminy', 77, 73, 23, 1993, 1596], ['D du Preez', 2, 1, 0, 10, 13], ['FH Edwards', 6, 2, 1, 4, 5], ['A Flintoff', 3, 3, 1, 62, 53], ['CH Gayle', 101, 100, 12, 3626, 2398], ['AN Ghosh', 2, 2, 0, 7, 8], ['Harmeet Singh', 28, 6, 2, 18, 12], ['RJ Harris', 37, 21, 9, 117, 112], ['SM Harwood', 3, 2, 2, 9, 14], ['T Henderson', 2, 2, 0, 11, 16], ['MC Henriques', 57, 50, 16, 969, 756], ['SB Jakati', 59, 8, 7, 28, 29], ['Jaskaran Singh', 8, 5, 4, 8, 11], ['Kamran Khan', 9, 2, 1, 3, 5], ['CK Langeveldt', 7, 2, 0, 8, 9], ['AB McDonald', 11, 9, 4, 123, 100], ['VS Malik', 13, 2, 1, 7, 7], ['SL Malinga', 110, 25, 9, 88, 99], ['Mashrafe Mortaza', 1, 1, 1, 2, 2], ['AD Mathews', 49, 42, 11, 724, 575], ['A Mithun', 16, 8, 3, 34, 26], ['Mohammad Ashraful', 1, 1, 0, 2, 10], ['M Morkel', 70, 23, 12, 126, 90], ['Y Nagar', 26, 20, 6, 285, 259], ['C Nanda', 3, 1, 0, 0, 1], ['DP Nannes', 29, 3, 2, 4, 13], ['GR Napier', 1, 1, 0, 15, 16], ['NV Ojha', 112, 93, 19, 1553, 1309], ['KP Pietersen', 36, 36, 9, 1001, 743], ['RJ Quiney', 7, 7, 0, 103, 102], ['AS Raut', 22, 16, 7, 194, 167], ['JD Ryder', 29, 29, 1, 604, 458], ['AM Salvi', 7, 0, 0, 0, 0], ['SS Sarkar', 2, 0, 0, 0, 0], ['RA Shaikh', 1, 0, 0, 0, 0], ['SS Shaikh', 2, 1, 0, 6, 7], ['KV Sharma', 56, 34, 13, 317, 274], ['Shoaib Ahmed', 8, 3, 1, 1, 6], ['A Singh', 23, 5, 1, 2, 10], ['TL Suman', 43, 40, 8, 676, 575], ['T Thushara', 6, 4, 2, 12, 18], ['S Tyagi', 14, 3, 2, 3, 4], ['PC Valthaty', 23, 23, 1, 505, 418], ['RE van der Merwe', 21, 15, 4, 159, 141], ['MN van Wyk', 5, 5, 2, 167, 132], ['M Vijay', 100, 100, 5, 2511, 2035], ['DA Warner', 114, 114, 15, 4014, 2824], ['Yashpal Singh', 8, 4, 0, 47, 66], ['S Ladda', 9, 2, 1, 0, 9], ['L Ablish', 3, 1, 1, 0, 2], ['AN Ahmed', 17, 6, 5, 36, 26], ['Anirudh Singh', 5, 4, 0, 63, 66], ['KB Arun Karthik', 17, 8, 3, 51, 51], ['AB Barath', 3, 3, 1, 42, 42], ['STR Binny', 80, 58, 20, 766, 604], ['Bipul Sharma', 33, 17, 9, 187, 123], ['MS Bisla', 39, 39, 1, 798, 702], ['DE Bollinger', 27, 4, 3, 21, 23], ['SE Bond', 8, 1, 0, 1, 2], ['PD Collingwood', 8, 7, 2, 203, 156], ['P Dogra', 13, 12, 1, 127, 138], ['AP Dole', 3, 2, 0, 34, 22], ['ND Doshi', 4, 1, 0, 0, 13], ['FY Fazal', 12, 11, 1, 183, 173], ['AJ Finch', 65, 64, 6, 1603, 1229], ['C Ganapathy', 1, 1, 1, 0, 0], ['RS Gavaskar', 2, 1, 0, 2, 8], ['Harpreet Singh', 4, 3, 1, 20, 26], ['KM Jadhav', 64, 57, 19, 893, 662], ['AA Jhunjhunwala', 21, 16, 3, 217, 210], ['JM Kemp', 5, 2, 0, 26, 24], ['MJ Lumb', 12, 12, 0, 278, 194], ['R McLaren', 18, 13, 5, 159, 171], ['C Madan', 1, 1, 0, 15, 19], ['Mandeep Singh', 70, 59, 4, 1112, 920], ['MR Marsh', 20, 14, 2, 225, 196], ['DR Martyn', 1, 1, 0, 19, 24], ['MD Mishra', 18, 17, 1, 237, 208], ['EJG Morgan', 52, 45, 5, 854, 705], ['AG Murtaza', 12, 3, 2, 10, 14], ['S Narwal', 7, 4, 1, 37, 27], ['MB Parmar', 1, 0, 0, 0, 0], ['AG Paunikar', 5, 5, 0, 49, 58], ['NLTC Perera', 37, 30, 8, 422, 307], ['KA Pollard', 123, 113, 32, 2343, 1599], ['CA Pujara', 30, 22, 3, 390, 391], ['AT Rayudu', 114, 107, 18, 2416, 1915], ['KAJ Roach', 2, 1, 0, 10, 9], ['R Sathish', 34, 25, 8, 270, 231], ['OA Shah', 23, 22, 7, 506, 389], ['R Sharma', 44, 20, 6, 66, 75], ['RS Sodhi', 3, 1, 1, 4, 2], ['S Sriram', 2, 2, 0, 31, 36], ['SJ Srivastava', 14, 4, 3, 5, 5], ['B Sumanth', 5, 4, 3, 35, 37], ['SW Tait', 21, 5, 2, 23, 26], ['AP Tare', 35, 28, 4, 339, 273], ['J Theron', 10, 4, 2, 10, 12], ['JD Unadkat', 47, 6, 5, 5, 13], ['A Uniyal', 2, 2, 1, 4, 7], ['AC Voges', 9, 7, 3, 181, 143], ['SB Wagh', 8, 2, 0, 2, 3], ['UT Yadav', 94, 25, 18, 94, 90], ['VR Aaron', 42, 10, 6, 46, 55], ['MA Agarwal', 53, 48, 2, 814, 660], ['Anand Rajan', 8, 0, 0, 0, 0], ['S Aravind', 38, 12, 8, 59, 57], ['BA Bhatt', 17, 2, 1, 6, 7], ['TR Birt', 5, 5, 0, 75, 58], ['AC Blizzard', 7, 7, 0, 120, 90], ['UBT Chand', 21, 20, 0, 300, 300], ['AA Chavan', 13, 3, 1, 12, 11], ['DT Christian', 36, 31, 8, 420, 341], ['KH Devdhar', 1, 0, 0, 0, 0], ['JP Faulkner', 60, 45, 20, 527, 389], ['CJ Ferguson', 9, 8, 2, 98, 117], ['JEC Franklin', 20, 16, 5, 327, 301], ['Y Gnaneswara Rao', 2, 1, 0, 19, 17], ['RV Gomez', 13, 9, 4, 50, 51], ['BJ Haddin', 1, 1, 0, 18, 11], ['CA Ingram', 3, 3, 1, 21, 26], ['DJ Jacobs', 7, 7, 0, 92, 98], ['IR Jaggi', 7, 7, 2, 76, 97], ['S Randiv', 8, 1, 0, 2, 4], ['AA Kazi', 1, 0, 0, 0, 0], ['M Klinger', 4, 4, 0, 73, 77], ['KMDN Kulasekara', 6, 1, 1, 5, 3], ['B Kumar', 90, 34, 15, 158, 157], ['NL McCullum', 2, 2, 1, 26, 22], ['I Malhotra', 1, 1, 1, 7, 4], ['AL Menaria', 29, 23, 2, 401, 356], ['SS Mundhe', 1, 0, 0, 0, 0], ['S Nadeem', 55, 18, 6, 26, 70], ['R Ninan', 2, 1, 0, 3, 6], ['TD Paine', 2, 2, 0, 10, 26], ['P Parameswaran', 8, 2, 2, 1, 2], ['WD Parnell', 26, 13, 4, 63, 75], ['AUK Pathan', 8, 7, 2, 39, 23], ['P Prasanth', 1, 0, 0, 0, 0], ['RW Price', 1, 0, 0, 0, 0], ['S Rana', 11, 8, 4, 91, 81], ['NJ Rimmington', 1, 1, 1, 1, 1], ['Shakib Al Hasan', 43, 32, 9, 498, 382], ['TG Southee', 29, 9, 3, 54, 35], ['Sunny Singh', 6, 5, 1, 43, 31], ['J Syed Mohammad', 11, 5, 3, 29, 26], ['JE Taylor', 5, 2, 1, 3, 3], ['RN ten Doeschate', 29, 22, 8, 326, 235], ['AC Thomas', 15, 4, 2, 20, 19], ['JJ van der Wath', 3, 3, 1, 18, 16], ['MS Wade', 3, 3, 0, 22, 33], ['DH Yagnik', 25, 17, 7, 170, 137], ['Ankit Sharma', 21, 10, 3, 87, 67], ['A Ashish Reddy', 31, 23, 8, 280, 193], ['P Awana', 33, 7, 5, 5, 14], ['Azhar Mahmood', 23, 21, 2, 388, 303], ['RR Bhatkal', 1, 1, 0, 0, 2], ['DAJ Bracewell', 1, 1, 1, 12, 9], ['A Chandila', 12, 2, 2, 4, 7], ['MJ Clarke', 6, 6, 0, 98, 94], ['KK Cooper', 25, 14, 5, 116, 68], ['M de Lange', 5, 1, 0, 1, 2], ['F du Plessis', 53, 46, 3, 1295, 1012], ['Sunny Gupta', 1, 1, 0, 0, 1], ['Gurkeerat Singh', 30, 24, 3, 342, 272], ['DJ Harris', 4, 4, 0, 111, 101], ['BW Hilfenhaus', 17, 1, 1, 0, 0], ['GB Hogg', 21, 6, 3, 22, 22], ['RE Levi', 6, 6, 0, 83, 73], ['CA Lynn', 12, 12, 2, 384, 243], ['CJ McKay', 2, 1, 0, 8, 15], ['AP Majumdar', 4, 4, 0, 87, 76], ['GJ Maxwell', 57, 56, 7, 1228, 747], ['DA Miller', 66, 64, 20, 1563, 1105], ['T Mishra', 1, 0, 0, 0, 0], ['SP Narine', 82, 32, 12, 271, 184], ['P Negi', 41, 29, 9, 353, 272], ['HV Patel', 36, 14, 5, 47, 34], ['RJ Peterson', 5, 5, 2, 32, 30], ['V Pratap Singh', 9, 1, 0, 0, 1], ['PA Reddy', 12, 11, 1, 164, 160], ['AD Russell', 34, 25, 3, 574, 331], ['N Saini', 10, 10, 0, 140, 141], ['BB Samantray', 9, 8, 3, 125, 113], ['MN Samuels', 15, 14, 1, 161, 172], ['R Shukla', 7, 4, 3, 19, 23], ['SPD Smith', 69, 62, 16, 1703, 1293], ['TP Sudhindra', 3, 1, 1, 0, 0], ['K Upadhyay', 3, 2, 2, 12, 9], ['LJ Wright', 7, 6, 1, 106, 60], ['SA Yadav', 55, 42, 14, 608, 465], ['S Badree', 12, 5, 0, 13, 23], ['UA Birla', 2, 1, 0, 7, 14], ['JJ Bumrah', 47, 7, 5, 25, 26], ['YS Chahal', 56, 10, 7, 15, 28], ['NM Coulter-Nile', 26, 12, 4, 52, 50], ['Q de Kock', 26, 26, 1, 726, 549], ['R Dhawan', 26, 17, 10, 153, 135], ['CM Gautam', 13, 13, 3, 169, 150], ['JO Holder', 11, 5, 0, 38, 31], ['MG Johnson', 48, 28, 15, 151, 153], ['MC Juneja', 7, 7, 0, 125, 128], ['S Kaul', 21, 4, 4, 9, 13], ['B Laughlin', 2, 2, 1, 4, 9], ['BMAJ Mendis', 3, 3, 0, 23, 27], ['Mohammed Shami', 31, 13, 6, 46, 45], ['CH Morris', 48, 29, 17, 439, 265], ['KK Nair', 55, 50, 4, 1158, 912], ['MG Neser', 1, 0, 0, 0, 0], ['IC Pandey', 25, 1, 0, 0, 2], ['Parvez Rasool', 11, 5, 3, 17, 20], ['MDKJ Perera', 2, 2, 0, 14, 13], ['KL Rahul', 39, 30, 6, 725, 577], ['AS Rajpoot', 11, 2, 1, 6, 13], ['R Rampaul', 12, 7, 2, 51, 50], ['KW Richardson', 14, 4, 1, 36, 39], ['BJ Rohrer', 8, 8, 2, 193, 140], ['Sachin Baby', 18, 10, 2, 137, 101], ['DJG Sammy', 22, 20, 5, 295, 241], ['SV Samson', 66, 62, 6, 1426, 1146], ['Sandeep Sharma', 56, 13, 12, 26, 35], ['SMSM Senanayake', 8, 4, 3, 10, 17], ['MM Sharma', 75, 22, 8, 112, 102], ['P Suyal', 5, 0, 0, 0, 0], ['PV Tambe', 33, 6, 4, 18, 39], ['X Thalaivan Sargunam', 1, 1, 0, 10, 17], ['GH Vihari', 22, 21, 3, 280, 313], ['M Vohra', 45, 41, 2, 957, 721], ['CJ Anderson', 27, 26, 7, 521, 401], ['PJ Cummins', 16, 10, 4, 77, 55], ['BCJ Cutting', 9, 8, 3, 124, 66], ['BR Dunk', 3, 3, 0, 40, 35], ['S Gopal', 6, 3, 1, 14, 27], ['JW Hastings', 3, 0, 0, 0, 0], ['BE Hendricks', 7, 3, 2, 1, 3], ['Imran Tahir', 32, 6, 2, 18, 25], ['Karanveer Singh', 9, 4, 3, 12, 17], ['NJ Maddinson', 3, 3, 0, 20, 21], ['JDS Neesham', 4, 3, 0, 42, 46], ['AR Patel', 59, 43, 13, 606, 473], ['RR Rossouw', 5, 5, 0, 53, 51], ['K Santokie', 2, 0, 0, 0, 0], ['V Shankar', 5, 4, 2, 101, 75], ['Shivam Sharma', 5, 2, 1, 5, 3], ['LMP Simmons', 29, 29, 2, 1079, 852], ['MA Starc', 27, 12, 5, 96, 98], ['R Tewatia', 7, 3, 1, 35, 24], ['VH Zol', 3, 2, 0, 29, 26], ['SA Abbott', 2, 2, 0, 15, 13], ['TA Boult', 14, 1, 1, 5, 8], ['KC Cariappa', 10, 4, 1, 15, 18], ['DJ Hooda', 41, 30, 4, 373, 268], ['SS Iyer', 32, 32, 3, 807, 628], ['SN Khan', 18, 12, 6, 177, 102], ['MJ McClenaghan', 40, 15, 7, 63, 44], ['RG More', 2, 1, 1, 2, 2], ['DJ Muthuswami', 6, 2, 1, 1, 3], ['HH Pandya', 37, 33, 14, 406, 285], ['GS Sandhu', 3, 0, 0, 0, 0], ['BB Sran', 16, 4, 4, 4, 4], ['J Suchith', 14, 6, 5, 48, 32], ['SN Thakur', 13, 4, 1, 7, 9], ['D Wiese', 15, 8, 4, 127, 90], ['KS Williamson', 15, 15, 2, 411, 318], ['J Yadav', 10, 2, 0, 6, 10], ['KJ Abbott', 5, 3, 2, 13, 8], ['AD Nath', 5, 4, 0, 20, 28], ['HM Amla', 16, 16, 3, 577, 407], ['M Ashwin', 10, 1, 0, 0, 1], ['F Behardien', 3, 3, 1, 14, 13], ['SW Billings', 11, 10, 0, 226, 168], ['SM Boland', 2, 0, 0, 0, 0], ['CR Brathwaite', 10, 8, 0, 95, 53], ['JC Buttler', 24, 24, 3, 527, 361], ['DL Chahar', 5, 1, 0, 14, 6], ['ER Dwivedi', 4, 2, 0, 24, 14], ['MJ Guptill', 10, 10, 1, 189, 143], ['PSP Handscomb', 2, 1, 0, 6, 12], ['TM Head', 10, 10, 3, 205, 148], ['Ishan Kishan', 16, 15, 0, 319, 247], ['CJ Jordan', 10, 2, 0, 3, 5], ['S Kaushik', 10, 2, 1, 0, 1], ['UT Khawaja', 6, 6, 0, 127, 100], ['Kuldeep Yadav', 15, 2, 0, 20, 22], ['AF Milne', 5, 3, 1, 7, 12], ['C Munro', 4, 3, 0, 30, 30], ['Mustafizur Rahman', 17, 0, 0, 0, 0], ['NS Naik', 2, 2, 0, 23, 31], ['KH Pandya', 25, 20, 7, 480, 303], ['RR Pant', 24, 24, 2, 564, 373], ['N Rana', 17, 15, 1, 437, 339], ['P Sahu', 5, 2, 1, 19, 13], ['T Shamsi', 4, 0, 0, 0, 0], ['MP Stoinis', 12, 8, 1, 163, 132], ['Swapnil Singh', 5, 3, 0, 12, 20], ['A Zampa', 11, 2, 0, 5, 8], ['AR Bawne', 1, 1, 1, 12, 12], ['SS Agarwal', 1, 0, 0, 0, 0], ['Ankit Soni', 7, 3, 1, 7, 9], ['Avesh Khan', 1, 0, 0, 0, 0], ['Basil Thampi', 12, 5, 5, 28, 28], ['DM Bravo', 1, 1, 1, 6, 5], ['RD Chahar', 3, 1, 1, 3, 2], ['A Choudhary', 5, 3, 2, 25, 20], ['C de Grandhomme', 12, 9, 1, 126, 92], ['LH Ferguson', 4, 1, 1, 1, 1], ['MJ Henry', 2, 0, 0, 0, 0], ['SP Jackson', 4, 3, 1, 38, 31], ['TS Mills', 5, 3, 0, 8, 11], ['Mohammad Nabi', 3, 1, 0, 2, 3], ['Mohammed Siraj', 6, 0, 0, 0, 0], ['T Natarajan', 6, 0, 0, 0, 0], ['K Rabada', 6, 3, 0, 55, 64], ['Rashid Khan', 14, 3, 1, 11, 9], ['JJ Roy', 3, 3, 1, 59, 40], ['NB Singh', 2, 0, 0, 0, 0], ['B Stanlake', 2, 0, 0, 0, 0], ['BA Stokes', 12, 11, 1, 316, 221], ['Tejas Baroka', 1, 0, 0, 0, 0], ['RA Tripathi', 14, 14, 0, 391, 267], ['AJ Tye', 6, 3, 1, 53, 30], ['Vishnu Vinod', 3, 3, 0, 19, 26], ['Washington Sundar', 11, 5, 4, 9, 12], ['CR Woakes', 13, 7, 3, 46, 47]]\n",
      "completed\n"
     ]
    }
   ],
   "source": [
    "import glob\n",
    "list1=[]\n",
    "names=[]\n",
    "files=glob.glob(\"C:/Users/VIK/Desktop/data/bat/*.csv\")\n",
    "for i in files:\n",
    "    file=open(i,\"r\")\n",
    "    file.readline()\n",
    "    content=file.readlines()\n",
    "    for w in range(len(content)):\n",
    "        arr=content[w].split(\",\")\n",
    "        name=arr[0]\n",
    "        matc=int(arr[1])\n",
    "        inn=int(arr[2])\n",
    "        no=int(arr[3])\n",
    "        runs=int(arr[4])\n",
    "        bls=int(arr[7])\n",
    "        if(name in names):\n",
    "            for q in list1:\n",
    "                if(q[0]==name):\n",
    "                    q[1]+=matc\n",
    "                    q[2]+=inn\n",
    "                    q[3]+=no\n",
    "                    q[4]+=runs\n",
    "                    q[5]+=bls\n",
    "        else:\n",
    "            list1.append([name,matc,inn,no,runs,bls])\n",
    "            names.append(name)\n",
    "file.close()\n",
    "print(len(list1))\n",
    "print(len(names))\n",
    "file1=open(\"C:/Users/VIK/Desktop/data/bat.csv\",\"w\")\n",
    "for k in list1:\n",
    "    name=k[0]\n",
    "    try:\n",
    "        avg=k[4]/(k[2]-k[3])\n",
    "    except ZeroDivisionError:\n",
    "        avg=0\n",
    "    try:\n",
    "        str1=(k[4]/k[5])*100\n",
    "    except ZeroDivisionError:\n",
    "        str1=0\n",
    "    file1.write(name+\",\"+str(avg)+\",\"+str(str1)+\"\\n\")\n",
    "file1.close()        \n",
    "print(\"completed\")\n",
    "    \n",
    "    "
   ]
  },
  {
   "cell_type": "code",
   "execution_count": null,
   "metadata": {},
   "outputs": [],
   "source": []
  },
  {
   "cell_type": "code",
   "execution_count": null,
   "metadata": {},
   "outputs": [],
   "source": []
  }
 ],
 "metadata": {
  "kernelspec": {
   "display_name": "Python 3",
   "language": "python",
   "name": "python3"
  },
  "language_info": {
   "codemirror_mode": {
    "name": "ipython",
    "version": 3
   },
   "file_extension": ".py",
   "mimetype": "text/x-python",
   "name": "python",
   "nbconvert_exporter": "python",
   "pygments_lexer": "ipython3",
   "version": "3.7.0"
  }
 },
 "nbformat": 4,
 "nbformat_minor": 2
}
