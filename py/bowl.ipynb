{
 "cells": [
  {
   "cell_type": "code",
   "execution_count": 7,
   "metadata": {},
   "outputs": [
    {
     "name": "stdout",
     "output_type": "stream",
     "text": [
      "['http://www.espncricinfo.com/ipl/engine/records/averages/bowling.html?id=3519;type=tournament', 'http://www.espncricinfo.com/ipl2009/engine/records/averages/bowling.html?id=4801;type=tournament', 'http://www.espncricinfo.com/ipl2010/engine/records/averages/bowling.html?id=5319;type=tournament', 'http://www.espncricinfo.com/indian-premier-league-2011/engine/records/averages/bowling.html?id=5969;type=tournament', 'http://www.espncricinfo.com/indian-premier-league-2012/engine/records/averages/bowling.html?id=6680;type=tournament', 'http://www.espncricinfo.com/indian-premier-league-2013/engine/records/averages/bowling.html?id=7720;type=tournament', 'http://www.espncricinfo.com/indian-premier-league-2014/engine/records/averages/bowling.html?id=8827;type=tournament', 'http://www.espncricinfo.com/indian-premier-league-2015/engine/records/averages/bowling.html?id=9657;type=tournament', 'http://www.espncricinfo.com/indian-premier-league-2016/engine/records/averages/bowling.html?id=11001;type=tournament', 'http://www.espncricinfo.com/indian-premier-league-2017/engine/records/averages/bowling.html?id=11701;type=tournament']\n",
      "bowl complete\n"
     ]
    }
   ],
   "source": [
    "from bs4 import BeautifulSoup\n",
    "import requests\n",
    "links=[\"http://www.espncricinfo.com/ipl/engine/series/313494.html?view=records\",\"http://www.espncricinfo.com/ipl2009/engine/series/374163.html?view=records\",\"http://www.espncricinfo.com/ipl2010/engine/series/418064.html?view=records\",\"http://www.espncricinfo.com/indian-premier-league-2011/engine/series/466304.html?view=records\",\"http://www.espncricinfo.com/indian-premier-league-2012/engine/series/520932.html?view=records\",\"http://www.espncricinfo.com/indian-premier-league-2013/engine/series/586733.html?view=records\",\"http://www.espncricinfo.com/indian-premier-league-2014/engine/series/695871.html?view=records\",\"http://www.espncricinfo.com/indian-premier-league-2015/engine/series/791129.html?view=records\",\"http://www.espncricinfo.com/indian-premier-league-2016/engine/series/968923.html?view=records\",\"http://www.espncricinfo.com/indian-premier-league-2017/engine/series/1078425.html?view=records\"]\n",
    "bowling=[]\n",
    "for i in links:\n",
    "    url=requests.get(i)\n",
    "    soup=BeautifulSoup(url.text)\n",
    "    table=soup.find_all('a',{'class':'RecordLinks'})\n",
    "    w=\"http://www.espncricinfo.com\"\n",
    "    bowling.append(w+table[38].get('href'))\n",
    "print(bowling)\n",
    "\n",
    "num=2008\n",
    "for i in range(len(bowling)):\n",
    "    file=open(\"C:/Users/VIK/Desktop/data/bowl/\"+str(num)+\"bowl\"+\".csv\",\"w\")\n",
    "    file.write(\"name,mat,inn,overs,mdns,runs,wkts,bbi,avg,econ,sr\\n\")\n",
    "    num=num+1\n",
    "    u=bowling[i]\n",
    "    url=requests.get(u)\n",
    "    soup=BeautifulSoup(url.text)\n",
    "    table=soup.find_all('table',{'class':'engineTable'})[0]#All the tables which belong to class engineTable\n",
    "    pp=table.find_all('tr',{'class':'data2'})\n",
    "    for m in pp:\n",
    "        pp=m.find_all('a')\n",
    "        name=pp[0].text\n",
    "        oth=m.find_all('td')\n",
    "        mat=oth[1].text\n",
    "        inn=oth[2].text\n",
    "        if(inn==\"-\"):\n",
    "            inn=\"0\"\n",
    "        ovs=oth[3].text\n",
    "        if(ovs==\"-\"):\n",
    "            ovs=\"0\"\n",
    "        mdns=oth[4].text\n",
    "        if(mdns==\"-\"):\n",
    "            mdns=\"0\"\n",
    "        runs=oth[5].text\n",
    "        if(runs==\"-\"):\n",
    "            runs=\"0\"\n",
    "        wkts=oth[6].text\n",
    "        if(wkts==\"-\"):\n",
    "            wkts=\"0\"\n",
    "        bbi=oth[7].text\n",
    "        if(bbi==\"-\"):\n",
    "            bbi=\"0\"\n",
    "        avg=oth[8].text\n",
    "        if(avg==\"-\"):\n",
    "            avg=\"0\"\n",
    "        ecno=oth[9].text\n",
    "        if(ecno==\"-\"):\n",
    "            eco=\"0\"\n",
    "        sr=oth[10].text\n",
    "        if(sr==\"-\"):\n",
    "            sr=\"0\"\n",
    "        file.write(name+\",\"+mat+\",\"+inn+\",\"+ovs+\",\"+mdns+\",\"+runs+\",\"+wkts+\",\"+bbi+\",\"+avg+\",\"+ecno+\",\"+sr+\"\\n\")\n",
    "    file.close()\n",
    "print(\"bowl complete\")"
   ]
  },
  {
   "cell_type": "code",
   "execution_count": null,
   "metadata": {},
   "outputs": [],
   "source": []
  }
 ],
 "metadata": {
  "kernelspec": {
   "display_name": "Python 3",
   "language": "python",
   "name": "python3"
  },
  "language_info": {
   "codemirror_mode": {
    "name": "ipython",
    "version": 3
   },
   "file_extension": ".py",
   "mimetype": "text/x-python",
   "name": "python",
   "nbconvert_exporter": "python",
   "pygments_lexer": "ipython3",
   "version": "3.7.0"
  }
 },
 "nbformat": 4,
 "nbformat_minor": 2
}
