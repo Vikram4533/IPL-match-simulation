{
 "cells": [
  {
   "cell_type": "code",
   "execution_count": 2,
   "metadata": {},
   "outputs": [
    {
     "name": "stdout",
     "output_type": "stream",
     "text": [
      "498\n",
      "498\n",
      "completed\n"
     ]
    }
   ],
   "source": [
    "import glob\n",
    "list1=[]\n",
    "names=[]\n",
    "files=glob.glob(\"C:/Users/VIK/Desktop/data/bowl/*.csv\")\n",
    "for i in files:\n",
    "    file=open(i,\"r\")\n",
    "    file.readline()\n",
    "    content=file.readlines()\n",
    "    for w in range(len(content)):\n",
    "        arr=content[w].split(\",\")\n",
    "        name=arr[0]\n",
    "        matc=int(arr[1])\n",
    "        inn=int(arr[2])\n",
    "        ovs=float(arr[3])\n",
    "        runs=int(arr[5])\n",
    "        wkts=int(arr[6])\n",
    "        if(name in names):\n",
    "            for q in list1:\n",
    "                if(q[0]==name):\n",
    "                    q[1]+=matc\n",
    "                    q[2]+=inn\n",
    "                    q[3]+=ovs\n",
    "                    q[4]+=runs\n",
    "                    q[5]+=wkts\n",
    "        else:\n",
    "            list1.append([name,matc,inn,ovs,runs,wkts])\n",
    "            names.append(name)\n",
    "file.close()\n",
    "print(len(list1))\n",
    "print(len(names))\n",
    "file1=open(\"C:/Users/VIK/Desktop/data/bowl.csv\",\"w\")\n",
    "for k in list1:\n",
    "    name=k[0]\n",
    "    try:\n",
    "        avg=k[4]/k[3]\n",
    "    except ZeroDivisionError:\n",
    "        avg=0\n",
    "    try:\n",
    "        str1=k[4]/k[5]\n",
    "    except ZeroDivisionError:\n",
    "        str1=0\n",
    "    file1.write(name+\",\"+str(avg)+\",\"+str(str1)+\"\\n\")\n",
    "file1.close()        \n",
    "print(\"completed\")\n",
    "    \n",
    "    "
   ]
  },
  {
   "cell_type": "code",
   "execution_count": null,
   "metadata": {},
   "outputs": [],
   "source": []
  }
 ],
 "metadata": {
  "kernelspec": {
   "display_name": "Python 3",
   "language": "python",
   "name": "python3"
  },
  "language_info": {
   "codemirror_mode": {
    "name": "ipython",
    "version": 3
   },
   "file_extension": ".py",
   "mimetype": "text/x-python",
   "name": "python",
   "nbconvert_exporter": "python",
   "pygments_lexer": "ipython3",
   "version": "3.7.0"
  }
 },
 "nbformat": 4,
 "nbformat_minor": 2
}
